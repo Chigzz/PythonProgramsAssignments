{
 "cells": [
  {
   "cell_type": "code",
   "execution_count": 5,
   "metadata": {},
   "outputs": [
    {
     "name": "stdout",
     "output_type": "stream",
     "text": [
      "Original list is: [3, 4, [], 1, 5, [], [], 8, 10]\n",
      "list after empty list removal:[3, 4, 1, 5, 8, 10]\n"
     ]
    }
   ],
   "source": [
    "test_list=[3,4,[],1,5,[],[],8,10]\n",
    "print(\"Original list is: \"+str(test_list))\n",
    "res=list(filter(None,test_list))\n",
    "print(\"list after empty list removal:\"+ str(res))"
   ]
  },
  {
   "cell_type": "code",
   "execution_count": null,
   "metadata": {},
   "outputs": [],
   "source": []
  },
  {
   "cell_type": "code",
   "execution_count": null,
   "metadata": {},
   "outputs": [],
   "source": []
  }
 ],
 "metadata": {
  "kernelspec": {
   "display_name": "Python 3",
   "language": "python",
   "name": "python3"
  },
  "language_info": {
   "codemirror_mode": {
    "name": "ipython",
    "version": 3
   },
   "file_extension": ".py",
   "mimetype": "text/x-python",
   "name": "python",
   "nbconvert_exporter": "python",
   "pygments_lexer": "ipython3",
   "version": "3.8.5"
  }
 },
 "nbformat": 4,
 "nbformat_minor": 4
}
