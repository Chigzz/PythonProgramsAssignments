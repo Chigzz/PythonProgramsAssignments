{
 "cells": [
  {
   "cell_type": "code",
   "execution_count": 2,
   "metadata": {},
   "outputs": [
    {
     "name": "stdout",
     "output_type": "stream",
     "text": [
      "My name is chirag and my nick shiva\n"
     ]
    }
   ],
   "source": [
    "s = \"My name is chirag and my nick name is shiva\"\n",
    "l = s.split() \n",
    "k = [] \n",
    "for i in l: \n",
    "  \n",
    "    if (s.count(i)>1 and (i not in k)or s.count(i)==1): \n",
    "        k.append(i) \n",
    "print(' '.join(k)) \n"
   ]
  },
  {
   "cell_type": "code",
   "execution_count": null,
   "metadata": {},
   "outputs": [],
   "source": []
  }
 ],
 "metadata": {
  "kernelspec": {
   "display_name": "Python 3",
   "language": "python",
   "name": "python3"
  },
  "language_info": {
   "codemirror_mode": {
    "name": "ipython",
    "version": 3
   },
   "file_extension": ".py",
   "mimetype": "text/x-python",
   "name": "python",
   "nbconvert_exporter": "python",
   "pygments_lexer": "ipython3",
   "version": "3.8.5"
  }
 },
 "nbformat": 4,
 "nbformat_minor": 4
}
